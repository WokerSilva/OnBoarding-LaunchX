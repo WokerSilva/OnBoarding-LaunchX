{
 "cells": [
  {
   "cell_type": "markdown",
   "metadata": {},
   "source": [
    "# Ejercicios Kata 9 \n",
    "\n",
    "## Ejercicio 1: Trabajar con argumentos en funciones\n",
    "\n",
    "Los argumentos requeridos en las funciones se utilizan cuando las funciones necesitan que esos argumentos funcionen correctamente. En este ejercicio, construirás un informe de combustible que requiere información de varias ubicaciones de combustible en todo el cohete.\n",
    "\n",
    "Comienza por crear una función que necesite tres lecturas de combustible y devuelva un informe:"
   ]
  },
  {
   "cell_type": "code",
   "execution_count": 4,
   "metadata": {},
   "outputs": [
    {
     "name": "stdout",
     "output_type": "stream",
     "text": [
      "Reporte de Estado:\n",
      "    Promedio: 91.66666666666667%\n",
      "    combustitble1: 90%\n",
      "    combustitble2: 90%\n",
      "    combustitble3: 95% \n",
      "    \n"
     ]
    }
   ],
   "source": [
    "# Función para leer 3 tanques de combustible y muestre el promedio\n",
    "\n",
    "def informe(combustitble1, combustible2, combustible3):\n",
    "    primedio_combustible = (combustitble1 + combustible2 + combustible3) / 3\n",
    "    return f\"\"\"Reporte de Estado:\n",
    "    Promedio: {primedio_combustible}%\n",
    "    combustitble1: {combustitble1}%\n",
    "    combustitble2: {combustible2}%\n",
    "    combustitble3: {combustible3}% \n",
    "    \"\"\"\n",
    "\n",
    "# Llamamos a la función que genera el reporte print(funcion(tanque1, tanque2, tanque3))\n",
    "print(informe(90, 90, 95))"
   ]
  },
  {
   "cell_type": "markdown",
   "metadata": {},
   "source": [
    "En lugar de simplemente crear el informe, la función también está calculando el promedio. Mejora la legibilidad extrayendo el cálculo promedio de la función en una nueva función para que el promedio se pueda hacer de forma independiente:"
   ]
  },
  {
   "cell_type": "code",
   "execution_count": null,
   "metadata": {},
   "outputs": [],
   "source": [
    "# Función promedio \n",
    "def fun_promedio(combustible):\n",
    "    total = sum(combustible)\n",
    "    contador = len(combustible)\n",
    "    return total / contador"
   ]
  },
  {
   "cell_type": "markdown",
   "metadata": {},
   "source": [
    "Ahora actualiza la función de informes para llamando a la nueva función del promedio:"
   ]
  },
  {
   "cell_type": "code",
   "execution_count": 5,
   "metadata": {},
   "outputs": [
    {
     "name": "stdout",
     "output_type": "stream",
     "text": [
      "Reporte de Estado:\n",
      "    Promedio: 78.66666666666667%\n",
      "    combustitble1: 88%\n",
      "    combustitble2: 79%\n",
      "    combustitble3: 69% \n",
      "    \n"
     ]
    }
   ],
   "source": [
    "# Función promedio \n",
    "def fun_promedio(combustible):\n",
    "    total = sum(combustible)\n",
    "    contador = len(combustible)\n",
    "    return total / contador\n",
    "\n",
    "# Actualiza la función\n",
    "\n",
    "def informe(combustitble1, combustible2, combustible3):    \n",
    "    return f\"\"\"Reporte de Estado:\n",
    "    Promedio: {fun_promedio([combustitble1, combustible2, combustible3])}%\n",
    "    combustitble1: {combustitble1}%\n",
    "    combustitble2: {combustible2}%\n",
    "    combustitble3: {combustible3}% \n",
    "    \"\"\"\n",
    "\n",
    "print(informe(88, 79, 69))"
   ]
  },
  {
   "cell_type": "markdown",
   "metadata": {},
   "source": [
    "## Ejercicio 2: Trabajar con argumentos de palabras clave en funciones\n",
    "\n",
    "En este ejercicio, construirás un informe de cohete que requiere varias piezas de información, como el tiempo hasta el destino, el combustible a la izquierda y el nombre del destino. Comienza por crear una función que creará un informe preciso de la misión:\n"
   ]
  },
  {
   "cell_type": "code",
   "execution_count": 11,
   "metadata": {},
   "outputs": [
    {
     "name": "stdout",
     "output_type": "stream",
     "text": [
      "\n",
      "    Nos dirijimos a Moon\n",
      "    Tiempo de vuelo: 65 minutes\n",
      "    Combustible: 500000 gallons\n",
      "    \n"
     ]
    }
   ],
   "source": [
    "# Función con un informe preciso de la misión. Considera hora de prelanzamiento, tiempo de vuelo, destino, tanque externo y tanque interno\n",
    "\n",
    "def informe_de_mision(prelanzamiento, tiempo_de_vuelo, destino, tanque_externo, tanque_interno):\n",
    "    return f\"\"\"\n",
    "    Nos dirijimos a {destino}\n",
    "    Tiempo de vuelo: {prelanzamiento + tiempo_de_vuelo} minutes\n",
    "    Combustible: {tanque_externo + tanque_interno} gallons\n",
    "    \"\"\"\n",
    "\n",
    "print(informe_de_mision(14, 51, \"Moon\", 200000, 300000))"
   ]
  },
  {
   "cell_type": "markdown",
   "metadata": {},
   "source": [
    "La función es problemática porque no se puede adaptar para minutos adicionales o tanques adicionales de combustible. Hazlo más flexible permitiendo cualquier número de pasos basados en el tiempo y cualquier número de tanques. En lugar de usar *args y **kwargs, aprovecha el hecho de que puedes usar cualquier nombre que desees. Asegurate que la función sea más legible mediante el uso de nombres de variables que están asociados con las entradas, como *minutes y **fuel_reservoirs:"
   ]
  },
  {
   "cell_type": "code",
   "execution_count": 13,
   "metadata": {},
   "outputs": [
    {
     "name": "stdout",
     "output_type": "stream",
     "text": [
      "\n",
      "    Nos dirijimos a Moon\n",
      "    Tiempo de vuelo: 76 minutes\n",
      "    Combustible: 500000 gallons\n",
      "    \n"
     ]
    }
   ],
   "source": [
    "# Escribe tu nueva función de reporte considerando lo anterior\n",
    "\n",
    "def informision(destino, *tiempo_de_vuelo, **combustible):\n",
    "    return f\"\"\"\n",
    "    Nos dirijimos a {destino}\n",
    "    Tiempo de vuelo: {sum(tiempo_de_vuelo)} minutes\n",
    "    Combustible: {sum(combustible.values())} gallons\n",
    "    \"\"\"\n",
    "\n",
    "print(informision(\"Moon\", 10, 15, 51, main=300000, external=200000))\n"
   ]
  },
  {
   "cell_type": "markdown",
   "metadata": {},
   "source": [
    "Debido a que el combustible que queda en los tanques es específico de cada tanque, actualiza la función para usar el nombre de cada tanque en el informe:"
   ]
  },
  {
   "cell_type": "code",
   "execution_count": 20,
   "metadata": {},
   "outputs": [
    {
     "name": "stdout",
     "output_type": "stream",
     "text": [
      "\n",
      "    Nos dirijimos a Moon\n",
      "    Tiempo de vuelo: 74 minutes\n",
      "    Combustible: 500000 gallons\n",
      "    main tank --> 300000 gallons left\n",
      "external tank --> 200000 gallons left\n",
      "\n"
     ]
    }
   ],
   "source": [
    "# Escribe tu nueva función\n",
    "def informision(destino, *tiempo_de_vuelo, **combustible):\n",
    "    informe = f\"\"\"\n",
    "    Nos dirijimos a {destino}\n",
    "    Tiempo de vuelo: {sum(tiempo_de_vuelo)} minutes\n",
    "    Combustible: {sum(combustible.values())} gallons\n",
    "    \"\"\"\n",
    "    for tanque, tamanno in combustible.items():\n",
    "        informe += f\"{tanque} tank --> {tamanno} gallons left\\n\"\n",
    "    return informe\n",
    "\n",
    "print(informision(\"Moon\", 8, 11, 55, main=300000, external=200000))"
   ]
  }
 ],
 "metadata": {
  "interpreter": {
   "hash": "141244049137c618073c79afd0f9a58880087fb35bece71bcaf6735ec1c6597d"
  },
  "kernelspec": {
   "display_name": "Python 3.9.10 64-bit (windows store)",
   "language": "python",
   "name": "python3"
  },
  "language_info": {
   "codemirror_mode": {
    "name": "ipython",
    "version": 3
   },
   "file_extension": ".py",
   "mimetype": "text/x-python",
   "name": "python",
   "nbconvert_exporter": "python",
   "pygments_lexer": "ipython3",
   "version": "3.9.10"
  },
  "orig_nbformat": 4
 },
 "nbformat": 4,
 "nbformat_minor": 2
}
