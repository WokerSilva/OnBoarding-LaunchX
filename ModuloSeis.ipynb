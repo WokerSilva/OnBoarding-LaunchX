{
 "cells": [
  {
   "cell_type": "markdown",
   "metadata": {},
   "source": [
    "# Introducción a las listas\n",
    "\n",
    "Que es una lista? Una lista es el lugar para almacenar una colección de valores\n",
    "\n",
    "### Crear una lista\n",
    "\n",
    "Cuando creamos una lista en Python, esta tiene valores separados por una coma y estan evueltos por corchetes"
   ]
  },
  {
   "cell_type": "code",
   "execution_count": 1,
   "metadata": {},
   "outputs": [],
   "source": [
    "planets = ['Mercury', 'Venus', 'Earth', 'Mars', 'Jupiter', 'Saturn', 'Uranus', 'Neptune']"
   ]
  },
  {
   "cell_type": "markdown",
   "metadata": {},
   "source": [
    "### Acceder a los elementos\n",
    "\n",
    "Cada elemento guardado se le asigna una \"casilla\" o indice, es por este por el cual podemos acceder a la información guardada ahí y se hace de la siguiente forma: planets[0], es decir el nombre de la variable seguido de un par de corchetes con el indice que deseamos. \n",
    "Es importante decir que estos indices comienzan en 0. Por lo que el primer indice siempre será 0."
   ]
  },
  {
   "cell_type": "code",
   "execution_count": 2,
   "metadata": {},
   "outputs": [
    {
     "name": "stdout",
     "output_type": "stream",
     "text": [
      "The first planet is Mercury\n",
      "The second planet is Venus\n",
      "The third planet is Earth\n"
     ]
    }
   ],
   "source": [
    "# Tenemos nuestra lista\n",
    "planets = ['Mercury', 'Venus', 'Earth', 'Mars', 'Jupiter', 'Saturn', 'Uranus', 'Neptune']\n",
    "# Imprimimos buscando por su indice\n",
    "print('The first planet is', planets[0])\n",
    "print('The second planet is', planets[1])\n",
    "print('The third planet is', planets[2])"
   ]
  },
  {
   "cell_type": "markdown",
   "metadata": {},
   "source": [
    "### Asignación \n",
    "\n",
    "Tambien podemos darle un indice especifico:"
   ]
  },
  {
   "cell_type": "code",
   "execution_count": 3,
   "metadata": {},
   "outputs": [
    {
     "name": "stdout",
     "output_type": "stream",
     "text": [
      "Mars is also known as Red Planet\n"
     ]
    }
   ],
   "source": [
    "planets[3] = 'Red Planet'\n",
    "print('Mars is also known as', planets[3])"
   ]
  },
  {
   "cell_type": "markdown",
   "metadata": {},
   "source": [
    "### Longitud de una Lista\n",
    "\n",
    "Usando la función len() asignada a una variable podemos saber la longitud de la lista"
   ]
  },
  {
   "cell_type": "code",
   "execution_count": 4,
   "metadata": {},
   "outputs": [
    {
     "name": "stdout",
     "output_type": "stream",
     "text": [
      "There are 8 planets in the solar system.\n"
     ]
    }
   ],
   "source": [
    "# Tenemos nuestra lista\n",
    "planets = ['Mercury', 'Venus', 'Earth', 'Mars', 'Jupiter', 'Saturn', 'Uranus', 'Neptune']\n",
    "\n",
    "number_of_planets = len(planets)\n",
    "print('There are', number_of_planets, 'planets in the solar system.')"
   ]
  },
  {
   "cell_type": "markdown",
   "metadata": {},
   "source": [
    "### Agregar \n",
    "\n",
    "Para agregar a nuestras listas usamos el método .append(value). Esto es gracias a que son dimanicas, es decir pueden cambiar (agregar o eliminar)"
   ]
  },
  {
   "cell_type": "code",
   "execution_count": 5,
   "metadata": {},
   "outputs": [
    {
     "name": "stdout",
     "output_type": "stream",
     "text": [
      "There are actually 9 planets in the solar system.\n"
     ]
    }
   ],
   "source": [
    "# Tenemos nuestra lista\n",
    "planets = ['Mercury', 'Venus', 'Earth', 'Mars', 'Jupiter', 'Saturn', 'Uranus', 'Neptune']\n",
    "# Agregamos un nuevo planeta\n",
    "planets.append('Pluto')\n",
    "# Asignamos para ver su longitud\n",
    "number_of_planets = len(planets)\n",
    "print('There are actually', number_of_planets, 'planets in the solar system.')"
   ]
  },
  {
   "cell_type": "markdown",
   "metadata": {},
   "source": [
    "### Eliminar \n",
    "\n",
    "Ahora para eliminar un elemento usamos el metodo .pop()"
   ]
  },
  {
   "cell_type": "code",
   "execution_count": 6,
   "metadata": {},
   "outputs": [
    {
     "name": "stdout",
     "output_type": "stream",
     "text": [
      "There are actually 9 planets in the solar system.\n",
      "Ups Pluton no es un planeta\n",
      "No, there are definitely 8 planets in the solar system.\n"
     ]
    }
   ],
   "source": [
    "# Tenemos nuestra lista\n",
    "planets = ['Mercury', 'Venus', 'Earth', 'Mars', 'Jupiter', 'Saturn', 'Uranus', 'Neptune']\n",
    "# Agregamos un nuevo planeta\n",
    "planets.append('Pluto')\n",
    "# Asignamos para ver su longitud\n",
    "number_of_planets = len(planets)\n",
    "print('There are actually', number_of_planets, 'planets in the solar system.')\n",
    "print('Ups Pluton no es un planeta')\n",
    "# AQUÍ VAMOS A ELIMINAR A PLUTON\n",
    "planets.pop()  \n",
    "number_of_planets = len(planets)\n",
    "print('No, there are definitely', number_of_planets, 'planets in the solar system.')"
   ]
  },
  {
   "cell_type": "markdown",
   "metadata": {},
   "source": [
    "### Índices negativos\n",
    "\n",
    "Los índices comienzan en cero y aumentan. Los índices negativos comienzan al final de la lista y trabajan hacia atrás.\n",
    "\n",
    "En el ejemplo siguiente, un índice de -1 devuelve el último elemento de una lista. Un índice de -2 retorna del penúltimo al último."
   ]
  },
  {
   "cell_type": "code",
   "execution_count": 7,
   "metadata": {},
   "outputs": [
    {
     "name": "stdout",
     "output_type": "stream",
     "text": [
      "The last planet is Neptune\n",
      "The penultimate planet is Uranus\n"
     ]
    }
   ],
   "source": [
    "# Tenemos nuestra lista\n",
    "planets = ['Mercury', 'Venus', 'Earth', 'Mars', 'Jupiter', 'Saturn', 'Uranus', 'Neptune']\n",
    "\n",
    "print('The last planet is', planets[-1])\n",
    "print('The penultimate planet is', planets[-2])"
   ]
  },
  {
   "cell_type": "markdown",
   "metadata": {},
   "source": [
    "### Buscar un valor en una lista\n",
    "\n",
    "Este método busca el valor y devuelve el índice de ese elemento en la lista. Si no encuentra una coincidencia, devuelve -1."
   ]
  },
  {
   "cell_type": "code",
   "execution_count": 8,
   "metadata": {},
   "outputs": [
    {
     "name": "stdout",
     "output_type": "stream",
     "text": [
      "Jupiter is the 5 planet from the sun\n"
     ]
    }
   ],
   "source": [
    "planets = ['Mercury', 'Venus', 'Earth', 'Mars', 'Jupiter', 'Saturn', 'Uranus', 'Neptune']\n",
    "\n",
    "jupiter_index = planets.index('Jupiter')\n",
    "print('Jupiter is the', jupiter_index + 1, 'planet from the sun')"
   ]
  },
  {
   "cell_type": "markdown",
   "metadata": {},
   "source": [
    "### Números en listas \n",
    "\n",
    "En el siguiente código creamos una lista que muestra las fuerzas gravitacionales de los ocho planetas del sistema solar, en G:"
   ]
  },
  {
   "cell_type": "code",
   "execution_count": 9,
   "metadata": {},
   "outputs": [],
   "source": [
    "gravity_on_planets = [0.378, 0.907, 1, 0.379, 2.36, 0.916, 0.889, 1.12]"
   ]
  },
  {
   "cell_type": "markdown",
   "metadata": {},
   "source": [
    "En la Tierra, un autobús de dos pisos pesa 12,650 kilogramos (kg), que es 12.65 toneladas. En Mercurio, donde la gravedad es de 0,378 G, el mismo autobús pesa 12.65 toneladas multiplicadas por 0.378. En Python, para multiplicar dos valores, se utiliza el símbolo *.\n",
    "\n",
    "En el siguiente ejemplo, puedes calcular el peso de un bus de dos pisos en diferentes planetas obteniendo el valor de la lista:"
   ]
  },
  {
   "cell_type": "code",
   "execution_count": 10,
   "metadata": {},
   "outputs": [
    {
     "name": "stdout",
     "output_type": "stream",
     "text": [
      "On Earth, a double-decker bus weighs 12650 kg\n",
      "On Mercury, a double-decker bus weighs 4781.7 kg\n"
     ]
    }
   ],
   "source": [
    "bus_weight = 12650 # in kilograms, on Earth\n",
    "\n",
    "print('On Earth, a double-decker bus weighs', bus_weight, 'kg')\n",
    "print('On Mercury, a double-decker bus weighs', bus_weight * gravity_on_planets[0], 'kg')"
   ]
  },
  {
   "cell_type": "markdown",
   "metadata": {},
   "source": [
    "### min() y max () con listas\n",
    "\n",
    "Python tiene funciones integradas para calcular los números más grandes y más pequeños de una lista. La función max() devuelve el número más grande y la función min() devuelve el más pequeño. Así que min(gravity_on_planets)devuelve el número más pequeño de la lista, gravity_on_planets que es 0.378 (Mercurio)."
   ]
  },
  {
   "cell_type": "code",
   "execution_count": 11,
   "metadata": {},
   "outputs": [
    {
     "name": "stdout",
     "output_type": "stream",
     "text": [
      "On Earth, a double-decker bus weighs 12650 kg\n",
      "The lightest a bus would be in the solar system is 4781.7 kg\n",
      "The heaviest a bus would be in the solar system is 29854.0 kg\n"
     ]
    }
   ],
   "source": [
    "bus_weight = 12650 # in kilograms, on Earth\n",
    "\n",
    "print('On Earth, a double-decker bus weighs', bus_weight, 'kg')\n",
    "print('The lightest a bus would be in the solar system is', bus_weight * min(gravity_on_planets), 'kg')\n",
    "print('The heaviest a bus would be in the solar system is', bus_weight * max(gravity_on_planets), 'kg')"
   ]
  },
  {
   "cell_type": "markdown",
   "metadata": {},
   "source": [
    "## Manipular datos \n",
    "\n",
    "### Slice list\n",
    "\n",
    "Puedes recuperar una parte de una lista mediante un slice\n",
    "\n",
    "Slice utiliza corchetes, pero en lugar de un solo elemento, tiene los índices inicial y final de los elementos que queremos recuperar, esto crea una nueva lista\n",
    "\n",
    "Un slice crea una nueva lista. No modifica la lista actual."
   ]
  },
  {
   "cell_type": "code",
   "execution_count": 13,
   "metadata": {},
   "outputs": [
    {
     "name": "stdout",
     "output_type": "stream",
     "text": [
      "['Venus', 'Earth', 'Mars']\n"
     ]
    }
   ],
   "source": [
    "planets = ['Mercury', 'Venus', 'Earth', 'Mars', 'Jupiter', 'Saturn', 'Uranus', 'Neptune']\n",
    "planets_before_earth = planets[1:4]\n",
    "print(planets_before_earth)"
   ]
  },
  {
   "cell_type": "code",
   "execution_count": 14,
   "metadata": {},
   "outputs": [
    {
     "name": "stdout",
     "output_type": "stream",
     "text": [
      "['Mars', 'Jupiter', 'Saturn', 'Uranus', 'Neptune']\n"
     ]
    }
   ],
   "source": [
    "planets_after_earth = planets[3:] # De este modo, Python asume que queremos ir al final de la lista\n",
    "print(planets_after_earth)"
   ]
  },
  {
   "cell_type": "markdown",
   "metadata": {},
   "source": [
    "### Uniendo listas\n",
    "\n",
    "Para unir dos listas, utilice el operador (+) con dos listas para devolver una nueva lista. Crea dos listas. Llene la primera lista con las cuatro lunas de Amaltea y la segunda lista con las cuatro lunas galileanas. Únelos para crear una nueva lista:"
   ]
  },
  {
   "cell_type": "code",
   "execution_count": 15,
   "metadata": {},
   "outputs": [
    {
     "name": "stdout",
     "output_type": "stream",
     "text": [
      "The regular satellite moons of Jupiter are ['Metis', 'Adrastea', 'Amalthea', 'Thebe', 'Io', 'Europa', 'Ganymede', 'Callisto']\n"
     ]
    }
   ],
   "source": [
    "amalthea_group = ['Metis', 'Adrastea', 'Amalthea', 'Thebe']\n",
    "galilean_moons = ['Io', 'Europa', 'Ganymede', 'Callisto']\n",
    "\n",
    "regular_satellite_moons = amalthea_group + galilean_moons\n",
    "print('The regular satellite moons of Jupiter are', regular_satellite_moons)"
   ]
  },
  {
   "cell_type": "markdown",
   "metadata": {},
   "source": [
    "### Ordenar listas\n",
    "\n",
    "Al usar el método .sort modificas la lista actual.\n",
    "\n",
    "Para ordenar una lista, utilizamos el método sort() de la lista. Python ordenará una lista de cadenas en orden alfabético y una lista de números en orden numérico:\n",
    "\n"
   ]
  },
  {
   "cell_type": "code",
   "execution_count": 16,
   "metadata": {},
   "outputs": [
    {
     "name": "stdout",
     "output_type": "stream",
     "text": [
      "The regular satellite moons of Jupiter are ['Adrastea', 'Amalthea', 'Callisto', 'Europa', 'Ganymede', 'Io', 'Metis', 'Thebe']\n"
     ]
    }
   ],
   "source": [
    "amalthea_group = ['Metis', 'Adrastea', 'Amalthea', 'Thebe']\n",
    "galilean_moons = ['Io', 'Europa', 'Ganymede', 'Callisto']\n",
    "\n",
    "regular_satellite_moons = amalthea_group + galilean_moons\n",
    "\n",
    "regular_satellite_moons.sort()\n",
    "print(\"The regular satellite moons of Jupiter are\", regular_satellite_moons)"
   ]
  },
  {
   "cell_type": "markdown",
   "metadata": {},
   "source": [
    "### Ordenar una lista en forma inversa\n",
    "\n",
    "llamamos al método .sort(reverse=True) de la lista:"
   ]
  },
  {
   "cell_type": "code",
   "execution_count": 17,
   "metadata": {},
   "outputs": [
    {
     "name": "stdout",
     "output_type": "stream",
     "text": [
      "The regular satellite moons of Jupiter are ['Thebe', 'Metis', 'Io', 'Ganymede', 'Europa', 'Callisto', 'Amalthea', 'Adrastea']\n"
     ]
    }
   ],
   "source": [
    "amalthea_group = ['Metis', 'Adrastea', 'Amalthea', 'Thebe']\n",
    "galilean_moons = ['Io', 'Europa', 'Ganymede', 'Callisto']\n",
    "\n",
    "regular_satellite_moons = amalthea_group + galilean_moons\n",
    "\n",
    "regular_satellite_moons.sort(reverse=True)\n",
    "print(\"The regular satellite moons of Jupiter are\", regular_satellite_moons)"
   ]
  },
  {
   "cell_type": "markdown",
   "metadata": {},
   "source": [
    "# Ejercicios\n",
    "\n",
    "### Ejercicio1: Crear y usar listas de Python\n",
    "\n",
    "Las listas permiten almacenar varios valores en una sola variable. Comenzarás un proyecto sobre información planetaria creando una lista de planetas."
   ]
  },
  {
   "cell_type": "code",
   "execution_count": 18,
   "metadata": {},
   "outputs": [
    {
     "name": "stdout",
     "output_type": "stream",
     "text": [
      "['Mercurio', 'Venus', 'Tierra', 'Marte', 'Jupiter', 'Saturno', 'Urano', 'Neptuno']\n"
     ]
    }
   ],
   "source": [
    "# En primer lugar, crea una variable denominada planets. Agrega los ocho planetas (sin Plutón) a la lista. A continuación, muestra el número de planetas.\n",
    "# Creamos la lista planets y la mostramos\n",
    "\n",
    "planets = ['Mercurio', 'Venus', 'Tierra', 'Marte', 'Jupiter', 'Saturno', 'Urano', 'Neptuno']\n",
    "print(planets)\n",
    "\n"
   ]
  },
  {
   "cell_type": "code",
   "execution_count": 3,
   "metadata": {},
   "outputs": [
    {
     "name": "stdout",
     "output_type": "stream",
     "text": [
      "9\n",
      "Pluto\n"
     ]
    }
   ],
   "source": [
    "planets = ['Mercurio', 'Venus', 'Tierra', 'Marte', 'Jupiter', 'Saturno', 'Urano', 'Neptuno']\n",
    "\n",
    "# Agrega a Plutón a la lista que creaste. Luego muestra tanto el número de planetas como el último planeta de la lista.\n",
    "planets.append('Pluto')\n",
    "\n",
    "number_planets = len(planets)\n",
    "print(number_planets)\n",
    "print(planets[-1])"
   ]
  },
  {
   "cell_type": "markdown",
   "metadata": {},
   "source": [
    "## Ejercicio 2: Trabajando con datos de una lista\n",
    "\n",
    "### Usar slices para recuperar partes de una lista\n",
    "\n",
    "Es posible que debas trabajar con diferentes secciones de una lista. En nuestro ejemplo, queremos mostrar planetas más cerca y más lejos del sol de un planeta que el usuario ingresa por teclado.\n",
    "\n",
    "Comienza agregando el código para crear una lista con los planetas."
   ]
  },
  {
   "cell_type": "code",
   "execution_count": null,
   "metadata": {},
   "outputs": [],
   "source": [
    "# Lista de planetas\n",
    "planets = ['Mercurio', 'Venus', 'Tierra', 'Marte', 'Jupiter', 'Saturno', 'Urano', 'Neptuno']"
   ]
  },
  {
   "cell_type": "markdown",
   "metadata": {},
   "source": [
    "Solicita al usuario el nombre de un planeta\n",
    "\n",
    "A continuación, agrega el código para solicitar al usuario un nombre. Debido a que las cadenas distinguen entre mayúsculas y minúsculas en Python, pídale al usuario que use una letra mayúscula para comenzar el nombre del planeta"
   ]
  },
  {
   "cell_type": "code",
   "execution_count": 4,
   "metadata": {},
   "outputs": [],
   "source": [
    "var_planeta = input('Ingresa nombre de un planeta iniciando con mayuscula ')"
   ]
  },
  {
   "cell_type": "markdown",
   "metadata": {},
   "source": [
    "Encuentra el planeta en la lista\n",
    "\n",
    "Para determinar qué planetas están más cerca que el que ingresó el usuario, debes encontrar dónde está el planeta en la lista. Puedes utilizar index para realizar esta operación. Agrega el código para encontrar el índice del planeta."
   ]
  },
  {
   "cell_type": "code",
   "execution_count": 9,
   "metadata": {},
   "outputs": [
    {
     "name": "stdout",
     "output_type": "stream",
     "text": [
      "5\n"
     ]
    }
   ],
   "source": [
    "# Lista de planetas\n",
    "planets = ['Mercurio', 'Venus', 'Tierra', 'Marte', 'Jupiter', 'Saturno', 'Urano', 'Neptuno']\n",
    "\n",
    "# Pedir un planeta\n",
    "var_planeta = input('Ingresa nombre de un planeta iniciando con mayuscula ')\n",
    "\n",
    "# Busca el planeta en la lista\n",
    "\n",
    "buscar_planeta = planets.index(var_planeta)\n",
    "print(buscar_planeta + 1)"
   ]
  },
  {
   "cell_type": "markdown",
   "metadata": {},
   "source": [
    "Mostrar planetas más cercanos al sol que el que el usuario ingresó\n",
    "\n",
    "Con el índice determinado, ahora puedes agregar el código para mostrar los planetas más cercanos al sol."
   ]
  },
  {
   "cell_type": "code",
   "execution_count": 13,
   "metadata": {},
   "outputs": [
    {
     "name": "stdout",
     "output_type": "stream",
     "text": [
      "['Mercurio', 'Venus', 'Tierra'] Marte\n"
     ]
    }
   ],
   "source": [
    "# Lista de planetas\n",
    "planets = ['Mercurio', 'Venus', 'Tierra', 'Marte', 'Jupiter', 'Saturno', 'Urano', 'Neptuno']\n",
    "\n",
    "# Pedir un planeta\n",
    "var_planeta = input('Ingresa nombre de un planeta iniciando con mayuscula ')\n",
    "\n",
    "# Busca el planeta en la lista\n",
    "\n",
    "buscar_planeta = planets.index(var_planeta)\n",
    "\n",
    "# Muestra los planetas más cercanos al sol\n",
    "print(planets[0:buscar_planeta] , var_planeta)"
   ]
  },
  {
   "cell_type": "markdown",
   "metadata": {},
   "source": [
    "Mostrar planetas más alejados del sol que el que el usuario ingresó\n",
    "\n",
    "Puedes usar el mismo índice para mostrar planetas más alejados del sol. Sin embargo, recuerda que el índice inicial se incluye cuando usas un slice. Como resultado, tendrás que agregar 1 al valor. Agrega el código para mostrar los planetas más alejados del sol."
   ]
  },
  {
   "cell_type": "code",
   "execution_count": 15,
   "metadata": {},
   "outputs": [
    {
     "name": "stdout",
     "output_type": "stream",
     "text": [
      "Marte ['Jupiter', 'Saturno', 'Urano', 'Neptuno']\n"
     ]
    }
   ],
   "source": [
    "# Lista de planetas\n",
    "planets = ['Mercurio', 'Venus', 'Tierra', 'Marte', 'Jupiter', 'Saturno', 'Urano', 'Neptuno']\n",
    "\n",
    "# Pedir un planeta\n",
    "var_planeta = input('Ingresa nombre de un planeta iniciando con mayuscula ')\n",
    "\n",
    "# Busca el planeta en la lista\n",
    "\n",
    "buscar_planeta = planets.index(var_planeta)\n",
    "\n",
    "# Muestra los planetas más cercanos al sol\n",
    "print(var_planeta , planets[buscar_planeta + 1 : ])"
   ]
  }
 ],
 "metadata": {
  "interpreter": {
   "hash": "141244049137c618073c79afd0f9a58880087fb35bece71bcaf6735ec1c6597d"
  },
  "kernelspec": {
   "display_name": "Python 3.9.10 64-bit (windows store)",
   "language": "python",
   "name": "python3"
  },
  "language_info": {
   "codemirror_mode": {
    "name": "ipython",
    "version": 3
   },
   "file_extension": ".py",
   "mimetype": "text/x-python",
   "name": "python",
   "nbconvert_exporter": "python",
   "pygments_lexer": "ipython3",
   "version": "3.9.10"
  },
  "orig_nbformat": 4
 },
 "nbformat": 4,
 "nbformat_minor": 2
}
