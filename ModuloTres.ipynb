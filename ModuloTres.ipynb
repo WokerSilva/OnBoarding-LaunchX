{
 "cells": [
  {
   "cell_type": "markdown",
   "metadata": {},
   "source": [
    "# Logica Booleana\n",
    "\n",
    "Logica condicional\n",
    "\n",
    " - Iguales: a == b\n",
    " - No es igual: a != b\n",
    " - Menos que: a < b\n",
    " - Mayor igual que: a <= b\n",
    " - Menor que: a > b\n",
    " - Menor igual que: a => b"
   ]
  },
  {
   "cell_type": "markdown",
   "metadata": {},
   "source": [
    "# Expresiones de prueba "
   ]
  },
  {
   "cell_type": "code",
   "execution_count": 7,
   "metadata": {},
   "outputs": [],
   "source": [
    "# Tip de práctica 1: Intenta ejecutarlo en un notebook.\n",
    "a = 97\n",
    "b = 55\n",
    "# Expresión de prueba\n",
    "if a < b:\n",
    "    # Instrucción a ejecutar\n",
    "    print(b)"
   ]
  },
  {
   "cell_type": "code",
   "execution_count": 6,
   "metadata": {},
   "outputs": [
    {
     "name": "stdout",
     "output_type": "stream",
     "text": [
      "93\n"
     ]
    }
   ],
   "source": [
    "# Tip de práctica 2: Intenta ejecutarlo en un notebook.\n",
    "a = 93\n",
    "b = 27\n",
    "# Expresión de prueba: Si a es mayor o igual a b\n",
    "if a >= b:\n",
    "    # Instrucción a ejecutar: Imprime a\n",
    "    print(a)"
   ]
  },
  {
   "cell_type": "markdown",
   "metadata": {},
   "source": [
    "Trabajando con else"
   ]
  },
  {
   "cell_type": "code",
   "execution_count": 5,
   "metadata": {},
   "outputs": [
    {
     "name": "stdout",
     "output_type": "stream",
     "text": [
      "93\n"
     ]
    }
   ],
   "source": [
    "# Se declaran las variables\n",
    "a = 93\n",
    "b = 27\n",
    "if a >= b:   # Expresión de prueba\n",
    "    print(a)\n",
    "else:        # Expresión si no se cumple la primera\n",
    "    print(b)"
   ]
  },
  {
   "cell_type": "markdown",
   "metadata": {},
   "source": [
    "Trabajando con elif"
   ]
  },
  {
   "cell_type": "code",
   "execution_count": 8,
   "metadata": {},
   "outputs": [
    {
     "name": "stdout",
     "output_type": "stream",
     "text": [
      "a es mayor o igual que b\n"
     ]
    }
   ],
   "source": [
    "# Se decalran las varibales\n",
    "a = 93\n",
    "b = 27\n",
    "if a >= b:                              # Expresion de prueba\n",
    "    print(\"a es mayor o igual que b\")\n",
    "elif a == b:                            # Con elif podemos añadir otra expresión de prueba\n",
    "    print(\"a es igual que b\")"
   ]
  },
  {
   "cell_type": "markdown",
   "metadata": {},
   "source": [
    "Combinar declaraciones if , elif, y else"
   ]
  },
  {
   "cell_type": "code",
   "execution_count": 10,
   "metadata": {},
   "outputs": [
    {
     "name": "stdout",
     "output_type": "stream",
     "text": [
      "a es mayor que b\n"
     ]
    }
   ],
   "source": [
    "# Declaramos las variables\n",
    "a = 93\n",
    "b = 27\n",
    "if a > b:                       # Tenemos la primera expresión de prueba\n",
    "    print(\"a es mayor que b\")\n",
    "elif a < b:                     # Tenemos la segunda expresión de prueba\n",
    "    print(\"a es menor que b\")\n",
    "else:                           # Tenemos la salida de la expresión de prueba\n",
    "    print (\"a es igual que b\")"
   ]
  },
  {
   "cell_type": "markdown",
   "metadata": {},
   "source": [
    "Lógica condicional anidada"
   ]
  },
  {
   "cell_type": "code",
   "execution_count": 9,
   "metadata": {},
   "outputs": [
    {
     "name": "stdout",
     "output_type": "stream",
     "text": [
      "a es menor que b\n"
     ]
    }
   ],
   "source": [
    "# Declaramos las variables\n",
    "a = 16\n",
    "b = 25 \n",
    "c = 27\n",
    "# Tenemos el primer nivel del if\n",
    "if a > b:\n",
    "    # Tenemos el segundo nivel del if\n",
    "    if b > c:   \n",
    "        print (\"a es mayor que b y b es mayor que c\")\n",
    "    # Cierre del segundo nivel del if\n",
    "    else: \n",
    "        print (\"a es mayor que b y menor que c\")\n",
    "# Este es el elif del primer nivel\n",
    "elif a == b:\n",
    "    print (\"a es igual que b\")\n",
    "# Este es la salida del primer nivel\n",
    "else:\n",
    "    print (\"a es menor que b\")"
   ]
  },
  {
   "cell_type": "markdown",
   "metadata": {},
   "source": [
    "Operador 'and'\n",
    "\n",
    "En este ejemplo, la expresión de prueba se evalúa en False, porque sólo una de las condiciones de las subexpresiones es True, es decir para un operador and se necesita que ambas condiciones sean True."
   ]
  },
  {
   "cell_type": "code",
   "execution_count": 11,
   "metadata": {},
   "outputs": [],
   "source": [
    "a = 23\n",
    "b = 34\n",
    "if a == 34 and b == 34:\n",
    "    print (a + b)"
   ]
  },
  {
   "cell_type": "markdown",
   "metadata": {},
   "source": [
    "Operador 'or'\n",
    "\n",
    "Para que la expresión se evalúe en True, al menos una de las subexpresiones debe ser verdadera. Si ninguna de las subexpresiones es verdadera, toda la expresión se evalúa en False. En este ejemplo tenemos que almenos una condicional es verdadera por lo que se evalua True e imprime."
   ]
  },
  {
   "cell_type": "code",
   "execution_count": 13,
   "metadata": {},
   "outputs": [
    {
     "name": "stdout",
     "output_type": "stream",
     "text": [
      "57\n"
     ]
    }
   ],
   "source": [
    "a = 23\n",
    "b = 34\n",
    "if a == 34 or b == 34:\n",
    "    print(a + b)"
   ]
  },
  {
   "cell_type": "markdown",
   "metadata": {},
   "source": [
    "# Ejercicios\n",
    "\n",
    "Declaraciones if, else, y elif\n",
    "\n"
   ]
  },
  {
   "cell_type": "code",
   "execution_count": 16,
   "metadata": {},
   "outputs": [
    {
     "name": "stdout",
     "output_type": "stream",
     "text": [
      "Adevertencia\n"
     ]
    }
   ],
   "source": [
    "# - Ejercicio Uno -\n",
    "# Añadir el código necesario para crear una variable que guarde la velocidad del asteroide.\n",
    "# Escribe una expresión de prueba para calcular si necesita una advertencia.\n",
    "# Agregue las instrucciones que se ejecutarán si la expresión de prueba es true o false.\n",
    "\n",
    "vel_asteroide = 523\n",
    "if vel_asteroide > 500:\n",
    "    print('Adevertencia')\n",
    "else:\n",
    "    print('Todo va bien')\n"
   ]
  },
  {
   "cell_type": "code",
   "execution_count": 19,
   "metadata": {},
   "outputs": [
    {
     "name": "stdout",
     "output_type": "stream",
     "text": [
      "Creo que veo algo\n"
     ]
    }
   ],
   "source": [
    "# - Ejercicio Dos -\n",
    "# Agrega el código para crear una variable para un asteroide que viaja a 19 km/s\n",
    "# Escribe varias expresiones de prueba para determinar si puedes ver el rayo de luz desde la tierra\n",
    "# Agrega las instrucciones que se ejecutarán si las expresiones de prueba son True o False\n",
    "\n",
    "velocidad_asteroide = 19\n",
    "if velocidad_asteroide < 19:\n",
    "    print('No hay nada por aquí')\n",
    "elif velocidad_asteroide == 19:\n",
    "    print('Creo que veo algo')\n",
    "else:\n",
    "    print('Ahí va un asteroide')"
   ]
  },
  {
   "cell_type": "markdown",
   "metadata": {},
   "source": [
    "Uso de operadores and y or"
   ]
  },
  {
   "cell_type": "code",
   "execution_count": 28,
   "metadata": {},
   "outputs": [
    {
     "name": "stdout",
     "output_type": "stream",
     "text": [
      "Revisar trayectoria\n"
     ]
    }
   ],
   "source": [
    "# Agrega el código para crear nuevas variables para la velocidad y el tamaño del asteroide\n",
    "# Para probar el código, prueba con varias velocidades y tamaños\n",
    "# Escribe varias expresiones de prueba o combinaciones de expresiones de prueba para determinar qué mensaje se debe enviar a Tierra.\n",
    "\n",
    "as1_vel = 80 # km/h\n",
    "as1_tam = 8 # Diamentro del asteroide en km\n",
    "\n",
    "if as1_tam > 15 or as1_vel > 90:\n",
    "    print('Peligro')\n",
    "elif as1_tam > 7 and as1_vel > 30:\n",
    "    print('Revisar trayectoria') \n",
    "else:\n",
    "    print('Todo en oreden')"
   ]
  }
 ],
 "metadata": {
  "interpreter": {
   "hash": "141244049137c618073c79afd0f9a58880087fb35bece71bcaf6735ec1c6597d"
  },
  "kernelspec": {
   "display_name": "Python 3.9.10 64-bit (windows store)",
   "language": "python",
   "name": "python3"
  },
  "language_info": {
   "codemirror_mode": {
    "name": "ipython",
    "version": 3
   },
   "file_extension": ".py",
   "mimetype": "text/x-python",
   "name": "python",
   "nbconvert_exporter": "python",
   "pygments_lexer": "ipython3",
   "version": "3.9.10"
  },
  "orig_nbformat": 4
 },
 "nbformat": 4,
 "nbformat_minor": 2
}
