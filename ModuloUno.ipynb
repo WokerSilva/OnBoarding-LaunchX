{
 "cells": [
  {
   "cell_type": "markdown",
   "metadata": {},
   "source": [
    "# Introducción\n",
    "\n",
    "En esta parte veremos aspectos basicos en python"
   ]
  },
  {
   "cell_type": "markdown",
   "metadata": {},
   "source": [
    "La función print()\n"
   ]
  },
  {
   "cell_type": "code",
   "execution_count": 1,
   "metadata": {},
   "outputs": [
    {
     "name": "stdout",
     "output_type": "stream",
     "text": [
      "Hola desde la consola\n"
     ]
    }
   ],
   "source": [
    "# Impresión en pantalla print('Hola desde la consola')\n",
    "print('Hola desde la consola')"
   ]
  },
  {
   "cell_type": "markdown",
   "metadata": {},
   "source": [
    "Variables\n",
    "\n",
    "    Estas sirven para almacenar datos"
   ]
  },
  {
   "cell_type": "code",
   "execution_count": 3,
   "metadata": {},
   "outputs": [
    {
     "name": "stdout",
     "output_type": "stream",
     "text": [
      "6\n"
     ]
    }
   ],
   "source": [
    "# Tenemos la primer variable sum: alamacena la suma de 1 y 2\n",
    "sum = 1 + 2\n",
    "# Tenemos la segunda variable product: almacena la variable sum multiplicada por 2\n",
    "product = sum * 2\n",
    "# Aquí volvemos a usar la función de imprimir para desplegar en consola la variable product\n",
    "print(product)"
   ]
  },
  {
   "cell_type": "markdown",
   "metadata": {},
   "source": [
    "Tipos de variables"
   ]
  },
  {
   "cell_type": "code",
   "execution_count": 9,
   "metadata": {},
   "outputs": [
    {
     "name": "stdout",
     "output_type": "stream",
     "text": [
      "Soy un entero:  8\n",
      "Soyb un decimal:  4.37\n",
      "Soy un booleano:  True\n",
      "Soy un String:  Apollo 11\n"
     ]
    }
   ],
   "source": [
    "# Variable de tipo entero: Número sin decimal\n",
    "planetas_del_sistema_solar = 8\n",
    "# Variable de tipo float: Número con decimal\n",
    "distancia_a_alfa_centauri = 4.37\n",
    "# Variable de tipo booleano: True o False \n",
    "puede_despegar = True\n",
    "# Variable de tipo String: Son cadenas de texto\n",
    "transbordador_que_aterrizo_en_la_luna = 'Apollo 11'\n",
    "\n",
    "print('Soy un entero: ' , planetas_del_sistema_solar)\n",
    "print('Soyb un decimal: ' , distancia_a_alfa_centauri)\n",
    "print('Soy un booleano: ' , puede_despegar)\n",
    "print('Soy un String: ' , transbordador_que_aterrizo_en_la_luna)\n"
   ]
  },
  {
   "cell_type": "markdown",
   "metadata": {},
   "source": [
    "Como saber que tipo de variable es:\n"
   ]
  },
  {
   "cell_type": "code",
   "execution_count": 16,
   "metadata": {},
   "outputs": [
    {
     "data": {
      "text/plain": [
       "float"
      ]
     },
     "execution_count": 16,
     "metadata": {},
     "output_type": "execute_result"
    }
   ],
   "source": [
    "# Declaramos las variables\n",
    "distancia_a_alfa_centauri = 4.37\n",
    "\n",
    "# Descubrimos su tipo de dato usando la funcion type()\n",
    "type(distancia_a_alfa_centauri)"
   ]
  },
  {
   "cell_type": "markdown",
   "metadata": {},
   "source": [
    "Operadores de asignación "
   ]
  },
  {
   "cell_type": "code",
   "execution_count": 17,
   "metadata": {},
   "outputs": [],
   "source": [
    "# Operador (=)\n",
    "x = 2 # x ahora contiene 2\n",
    "\n",
    "# Operador (+=)\n",
    "x += 2 # x incrementa en 2\n",
    "\n",
    "# Operador (-=)\n",
    "x -= 2 # x decrementa en 2\n",
    "\n",
    "# Operador (/=)\n",
    "x /= 2 # x es dividido en 2\n",
    "\n",
    "# Operador (*=)\n",
    "x *= 2 # x es multiplicado por 2"
   ]
  },
  {
   "cell_type": "markdown",
   "metadata": {},
   "source": [
    "Fecha en Python"
   ]
  },
  {
   "cell_type": "code",
   "execution_count": 20,
   "metadata": {},
   "outputs": [
    {
     "name": "stdout",
     "output_type": "stream",
     "text": [
      "2022-02-08\n",
      "Hoy es:  2022-02-08\n"
     ]
    }
   ],
   "source": [
    "# Importamos la biblioteca \n",
    "from datetime import date\n",
    "\n",
    "# Obtenemos la fecha de hoy \n",
    "date.today()\n",
    "\n",
    "# Mostramos la fecha en consola\n",
    "print(date.today())\n",
    "\n",
    "# Ahora imprimimos usado str para que acepte la cadena\n",
    "#   es decir hace una conversion de datos\n",
    "print('Hoy es: ' , str(date.today()))"
   ]
  },
  {
   "cell_type": "markdown",
   "metadata": {},
   "source": [
    "Recopilando información\n",
    "(Con String)"
   ]
  },
  {
   "cell_type": "code",
   "execution_count": 1,
   "metadata": {},
   "outputs": [
    {
     "name": "stdout",
     "output_type": "stream",
     "text": [
      "Bienvenid@ !, ingresa tu nombre\n",
      "Hola!  Marco\n"
     ]
    }
   ],
   "source": [
    "# La función input() recolecta los datos como tipo String\n",
    "#   por lo que es perfecto para un ejemplo como el siguiente\n",
    "\n",
    "print('Bienvenid@ !, ingresa tu nombre')\n",
    "nombre_usuario = input('Nombre')\n",
    "print('Hola! ' , nombre_usuario)"
   ]
  },
  {
   "cell_type": "markdown",
   "metadata": {},
   "source": [
    "Recopilando información (Con Int)"
   ]
  },
  {
   "cell_type": "code",
   "execution_count": 7,
   "metadata": {},
   "outputs": [
    {
     "name": "stdout",
     "output_type": "stream",
     "text": [
      "Calculadora\n",
      "El resultado es 7\n"
     ]
    }
   ],
   "source": [
    "# Ahora con la finción int() recolectaremos los datos pero \n",
    "#   serán de tipo int. Esto para poder operar con ellos\n",
    "\n",
    "print('Calculadora')\n",
    "numero_uno = input('Escribe el primer numero: ')\n",
    "numero_dos = input('Escribe el segundo numero: ')\n",
    "print( 'El resultado es' , int(numero_uno) + int(numero_dos))"
   ]
  },
  {
   "cell_type": "markdown",
   "metadata": {},
   "source": [
    "# Ejecicios \n",
    "\n",
    "Numero Uno: Para crear este programa, deberás utilizar los conceptos que aprendiste en el último módulo. Usarás Jupyter Notebook en este ejercicio, que es una combinación de texto y código con la que puede interactuar. Finaliza el código siguiente para que el resultado muestre la fecha de hoy\n",
    "\n",
    "            from datetime import date\n",
    "\n",
    "            print(\"Today's date is: \")\n",
    "\n",
    "            \n",
    "Numero dos: Necesito una cosa más: un programa de conversión entre parsecs y años luz. Tener un programa de este tipo podría ser realmente útil en el puente para trazar nuestro curso\n",
    "\n",
    "            parsec = 11\n",
    "\n",
    "            lightyears = 0\n",
    "\n",
    "            print(str(parsec) + \" parsec, is \" + str(lightyears) + \" lightyears\")\n",
    "\n"
   ]
  },
  {
   "cell_type": "code",
   "execution_count": 11,
   "metadata": {},
   "outputs": [
    {
     "name": "stdout",
     "output_type": "stream",
     "text": [
      "La fecha de hoy es: 2022-02-08\n"
     ]
    }
   ],
   "source": [
    "# Ejercicio UNO\n",
    "# Importamos la biblioteca\n",
    "from datetime import date\n",
    "\n",
    "# Usamos la función str() para convertir a string\n",
    "print(\"La fecha de hoy es: \" + str(date.today()))"
   ]
  },
  {
   "cell_type": "code",
   "execution_count": 13,
   "metadata": {},
   "outputs": [
    {
     "name": "stdout",
     "output_type": "stream",
     "text": [
      "11 parsec, is 35.877159999999996 lightyears\n"
     ]
    }
   ],
   "source": [
    "# Ejercicio DOS\n",
    "# Tenemos nuestra variable fija parsec en 11\n",
    "parsec = 11\n",
    "# Ahora necesitamos el valor de años luz por los parsec's \n",
    "lightyears = 3.26156 * parsec\n",
    "\n",
    "# Para finalmente imprimir a cuento equivale\n",
    "print(str(parsec) + \" parsec, is \" + str(lightyears) + \" lightyears\")"
   ]
  }
 ],
 "metadata": {
  "interpreter": {
   "hash": "141244049137c618073c79afd0f9a58880087fb35bece71bcaf6735ec1c6597d"
  },
  "kernelspec": {
   "display_name": "Python 3.9.10 64-bit (windows store)",
   "language": "python",
   "name": "python3"
  },
  "language_info": {
   "codemirror_mode": {
    "name": "ipython",
    "version": 3
   },
   "file_extension": ".py",
   "mimetype": "text/x-python",
   "name": "python",
   "nbconvert_exporter": "python",
   "pygments_lexer": "ipython3",
   "version": "3.9.10"
  },
  "orig_nbformat": 4
 },
 "nbformat": 4,
 "nbformat_minor": 2
}
