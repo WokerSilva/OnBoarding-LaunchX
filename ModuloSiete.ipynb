{
 "cells": [
  {
   "cell_type": "markdown",
   "metadata": {},
   "source": [
    "# Ciclos While y For\n",
    "\n",
    "Estos ciclos se usan para hacer tareas repetitivas. "
   ]
  },
  {
   "cell_type": "markdown",
   "metadata": {},
   "source": [
    "## Ciclos while\n",
    "\n",
    "La carecteristica principal del ciclo while, es que se va a ejecutar hasta encontrar la clausula de salida. En otras palabras, el codigo se ejecutará mientras cierta condición se cumpla, si esta ya no se cumple el ciclo while terminara. \n",
    "\n",
    "Estra estructura tiene tres partes importantes\n",
    "\n",
    "- La palabra while, seguida de un espacio para inicializar la estructura\n",
    "\n",
    "- La condición con la que se va a ejecutar el ciclo. Si la condición es True, se ejecutará el código dentro del ciclo while.\n",
    "\n",
    "- El código que quiere ejecutar para cada elemento del objeto iterable, seguido de espacios en blanco anidados. (es decir la indentación correcta)"
   ]
  },
  {
   "cell_type": "code",
   "execution_count": null,
   "metadata": {},
   "outputs": [],
   "source": [
    "#while condition:\n",
    "    # lo que quieres que se ejecute"
   ]
  },
  {
   "cell_type": "code",
   "execution_count": 2,
   "metadata": {},
   "outputs": [],
   "source": [
    "# Veamos un ejemplo concreto\n",
    "user_input = ''\n",
    "\n",
    "while user_input.lower() != 'done':\n",
    "    user_input = input('Escriba algo, para salir del programa escriba: done')"
   ]
  },
  {
   "cell_type": "markdown",
   "metadata": {},
   "source": [
    "- Aquí lo que estamos haciendo es definir una variable para guardar lo que vamos a solisitar al usuario, en este caso que escriba una palabra\n",
    "- Despues, mientras el usuario escriba algo diferente de \"done\" va a ejecutar las siguientes lineas (se usa lower para dejar todo en minuscular)\n",
    "- Pedira al usuario escribir palbras, mientras el usuario no escriba \"done\" se le seguiran pidiendo palabras\n",
    "- Una vez que el usuario escriba \"done\" el ciclo while terminará"
   ]
  },
  {
   "cell_type": "markdown",
   "metadata": {},
   "source": [
    " \n",
    "\n",
    " \n",
    " ## Ciclos for \n",
    "\n",
    " Para la estructura for en Python debemos saber que funciona perfectamente con objetos iterables que va a recorrer un número de veces conocido (a diferencia de while, donde no sabemos cuando puede parar).\n",
    "\n",
    "Si volteamos a ver a las listas, a estas podriamos querer imprimir todos sus valores, con un while y un contador podríamos hacerlo sin problemas sin embargo una solución más optima es el iterar esa lista usando for:\n"
   ]
  },
  {
   "cell_type": "code",
   "execution_count": 6,
   "metadata": {},
   "outputs": [
    {
     "name": "stdout",
     "output_type": "stream",
     "text": [
      "4\n",
      "3\n",
      "2\n",
      "1\n",
      "0\n",
      "Despegue!! 🚀\n"
     ]
    }
   ],
   "source": [
    "countdown = [4, 3, 2, 1, 0]\n",
    "for number in countdown:\n",
    "    print(number)\n",
    "print(\"Despegue!! 🚀\")"
   ]
  },
  {
   "cell_type": "markdown",
   "metadata": {},
   "source": [
    "Su estructura es:\n",
    " - La palabra for, seguida de un espacio.\n",
    " - El nombre de la variable que quieres crear para cada valor de la secuencia (number).\n",
    " - La palabra in, espacio\n",
    " - El nombre de la lista (countdown, en el ejemplo anterior) u objeto iterable que quieres recorrer en ciclo, seguido de dos puntos (:).\n",
    " - El código que quieres ejecutar para cada elemento del objeto iterable, separado por espacios en blanco anidados, es decir la indentación"
   ]
  },
  {
   "cell_type": "markdown",
   "metadata": {},
   "source": []
  },
  {
   "cell_type": "markdown",
   "metadata": {},
   "source": [
    "# Ejercicios del Modulo\n",
    "\n",
    "### Ejercicio 1: Uso de ciclos while en Python\n",
    "\n",
    "En Python, los ciclos while te permiten ejecutar código un número desconocido de veces. Los ciclos examinan una condición booleana y, siempre que la condición sea verdadera, se ejecutará el código dentro del ciclo. Esto es muy útil para situaciones como solicitar valores a un usuario.\n",
    "\n",
    "En este ejercicio, estás creando una aplicación que solicita a un usuario que ingrese una lista de planetas. En un ejercicio posterior, agregarás código que muestre la lista. Por ahora, crearás solo el código que solicita al usuario la lista de planetas."
   ]
  },
  {
   "cell_type": "code",
   "execution_count": null,
   "metadata": {},
   "outputs": [],
   "source": [
    "# Comienza agregando dos variables, una para la entrada del usuario, con el nombre new_planet,\n",
    "#  y otra variable para la lista de planetas, denominada planets.\n",
    "\n",
    "new_planet = ''\n",
    "planets = []"
   ]
  },
  {
   "cell_type": "markdown",
   "metadata": {},
   "source": [
    "Crea un ciclo while\n",
    "\n",
    "Comenzando con las variables que acabas de crear, crearás un ciclo while. El ciclo while se ejecutará mientras el new_planet no sea igual a la palabra 'done'.\n",
    "\n",
    "Dentro del ciclo, comprobarás si la variable new_planet contiene un valor, que debería ser el nombre de un planeta. Esta es una forma rápida de ver si el usuario ha introducido un valor. Si lo han hecho, tu código agregará (append) ese valor a la variable planets.\n",
    "\n",
    "Finalmente, usarás input para solicitar al usuario que ingrese un nuevo nombre de planeta o que escriba done si ha terminado de ingresar nombres de planeta. Almacenará el valor de input en la variable new_planet."
   ]
  },
  {
   "cell_type": "code",
   "execution_count": 8,
   "metadata": {},
   "outputs": [
    {
     "name": "stdout",
     "output_type": "stream",
     "text": [
      "['Marte', 'Tierra', 'Jupiter']\n"
     ]
    }
   ],
   "source": [
    "new_planet = ''\n",
    "planets = []\n",
    "\n",
    "while new_planet != 'done':\n",
    "    if new_planet:\n",
    "        planets.append(new_planet)\n",
    "    new_planet = input('Ingrese nuevo planeta, escriba done para salir')\n",
    "print(planets)"
   ]
  },
  {
   "cell_type": "markdown",
   "metadata": {},
   "source": [
    "### Ejercicio 2: Ciclo para una lista usando For\n",
    "\n",
    "En el ejercicio anterior, creaste código para solicitar a los usuarios que introduzcan una lista de nombres de planetas. En este ejercicio, completarás la aplicación escribiendo código que muestre los nombres de esos planetas.\n",
    "\n",
    "### Mostrar la lista de los planetas\n",
    "\n",
    "La variable planets almacena los nombres de planeta que ha introducido un usuario. Ahora usarás un ciclo para mostrar esas entradas.\n",
    "\n",
    "Crea un ciclo for para iterar sobre la lista planets. Puedes usar como nombre de la variable planet para cada planeta. Dentro del ciclo for, recuerda utilizar print para mostrar cada planet.\n"
   ]
  },
  {
   "cell_type": "code",
   "execution_count": 9,
   "metadata": {},
   "outputs": [
    {
     "name": "stdout",
     "output_type": "stream",
     "text": [
      "Marte\n",
      "Tierra\n",
      "Jupiter\n",
      "Saturno\n"
     ]
    }
   ],
   "source": [
    "# Variable para guardar la entrada del usuario\n",
    "new_planet = ''\n",
    "# Variable para guardad en una lista las entradas del usuario\n",
    "planets = []\n",
    "\n",
    "#  Ciclo para pedir añadir planetas hasta que se escriba done\n",
    "while new_planet != 'done':\n",
    "    if new_planet:\n",
    "        planets.append(new_planet) # Aquí agregamos a la lista\n",
    "    new_planet = input('Ingrese nuevo planeta, escriba done para salir') # Aquí se sigue pidiendo ingresar planetas\n",
    "\n",
    "# Ciclo for para impirmir la lista \n",
    "# Iteramos a planeta sobre la lista de planets\n",
    "for planeta in planets:\n",
    "    print(planeta)\n",
    "\n"
   ]
  }
 ],
 "metadata": {
  "interpreter": {
   "hash": "141244049137c618073c79afd0f9a58880087fb35bece71bcaf6735ec1c6597d"
  },
  "kernelspec": {
   "display_name": "Python 3.9.10 64-bit (windows store)",
   "language": "python",
   "name": "python3"
  },
  "language_info": {
   "codemirror_mode": {
    "name": "ipython",
    "version": 3
   },
   "file_extension": ".py",
   "mimetype": "text/x-python",
   "name": "python",
   "nbconvert_exporter": "python",
   "pygments_lexer": "ipython3",
   "version": "3.9.10"
  },
  "orig_nbformat": 4
 },
 "nbformat": 4,
 "nbformat_minor": 2
}
